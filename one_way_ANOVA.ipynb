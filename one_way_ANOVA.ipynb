{
 "cells": [
  {
   "cell_type": "code",
   "execution_count": 1,
   "metadata": {},
   "outputs": [],
   "source": [
    "import pandas as pd"
   ]
  },
  {
   "cell_type": "code",
   "execution_count": 2,
   "metadata": {},
   "outputs": [
    {
     "data": {
      "text/html": [
       "<div>\n",
       "<style scoped>\n",
       "    .dataframe tbody tr th:only-of-type {\n",
       "        vertical-align: middle;\n",
       "    }\n",
       "\n",
       "    .dataframe tbody tr th {\n",
       "        vertical-align: top;\n",
       "    }\n",
       "\n",
       "    .dataframe thead th {\n",
       "        text-align: right;\n",
       "    }\n",
       "</style>\n",
       "<table border=\"1\" class=\"dataframe\">\n",
       "  <thead>\n",
       "    <tr style=\"text-align: right;\">\n",
       "      <th></th>\n",
       "      <th>Grupo</th>\n",
       "      <th>AES</th>\n",
       "      <th>dia1</th>\n",
       "      <th>dia2</th>\n",
       "      <th>dia3</th>\n",
       "      <th>dia4</th>\n",
       "      <th>dia5</th>\n",
       "      <th>dia6</th>\n",
       "      <th>dia7</th>\n",
       "      <th>u</th>\n",
       "      <th>div/day</th>\n",
       "      <th>dt</th>\n",
       "      <th>biomass</th>\n",
       "    </tr>\n",
       "  </thead>\n",
       "  <tbody>\n",
       "    <tr>\n",
       "      <th>0</th>\n",
       "      <td>control</td>\n",
       "      <td>0</td>\n",
       "      <td>60</td>\n",
       "      <td>86</td>\n",
       "      <td>149</td>\n",
       "      <td>204</td>\n",
       "      <td>555</td>\n",
       "      <td>863</td>\n",
       "      <td>1100</td>\n",
       "      <td>0.99</td>\n",
       "      <td>1.43</td>\n",
       "      <td>0.70</td>\n",
       "      <td>1.66</td>\n",
       "    </tr>\n",
       "    <tr>\n",
       "      <th>1</th>\n",
       "      <td>control</td>\n",
       "      <td>0</td>\n",
       "      <td>59</td>\n",
       "      <td>103</td>\n",
       "      <td>124</td>\n",
       "      <td>351</td>\n",
       "      <td>583</td>\n",
       "      <td>859</td>\n",
       "      <td>1819</td>\n",
       "      <td>1.07</td>\n",
       "      <td>1.54</td>\n",
       "      <td>0.65</td>\n",
       "      <td>1.84</td>\n",
       "    </tr>\n",
       "    <tr>\n",
       "      <th>2</th>\n",
       "      <td>control</td>\n",
       "      <td>0</td>\n",
       "      <td>48</td>\n",
       "      <td>75</td>\n",
       "      <td>155</td>\n",
       "      <td>473</td>\n",
       "      <td>639</td>\n",
       "      <td>1176</td>\n",
       "      <td>1625</td>\n",
       "      <td>1.05</td>\n",
       "      <td>1.52</td>\n",
       "      <td>0.66</td>\n",
       "      <td>1.56</td>\n",
       "    </tr>\n",
       "    <tr>\n",
       "      <th>3</th>\n",
       "      <td>tratamiento1</td>\n",
       "      <td>0</td>\n",
       "      <td>80</td>\n",
       "      <td>106</td>\n",
       "      <td>151</td>\n",
       "      <td>489</td>\n",
       "      <td>445</td>\n",
       "      <td>604</td>\n",
       "      <td>692</td>\n",
       "      <td>0.92</td>\n",
       "      <td>1.33</td>\n",
       "      <td>0.75</td>\n",
       "      <td>0.47</td>\n",
       "    </tr>\n",
       "    <tr>\n",
       "      <th>4</th>\n",
       "      <td>tratamiento1</td>\n",
       "      <td>0</td>\n",
       "      <td>76</td>\n",
       "      <td>71</td>\n",
       "      <td>190</td>\n",
       "      <td>404</td>\n",
       "      <td>457</td>\n",
       "      <td>600</td>\n",
       "      <td>622</td>\n",
       "      <td>0.90</td>\n",
       "      <td>1.30</td>\n",
       "      <td>0.77</td>\n",
       "      <td>0.49</td>\n",
       "    </tr>\n",
       "    <tr>\n",
       "      <th>5</th>\n",
       "      <td>tratamiento1</td>\n",
       "      <td>0</td>\n",
       "      <td>55</td>\n",
       "      <td>85</td>\n",
       "      <td>185</td>\n",
       "      <td>416</td>\n",
       "      <td>473</td>\n",
       "      <td>495</td>\n",
       "      <td>573</td>\n",
       "      <td>0.89</td>\n",
       "      <td>1.28</td>\n",
       "      <td>0.78</td>\n",
       "      <td>0.53</td>\n",
       "    </tr>\n",
       "    <tr>\n",
       "      <th>6</th>\n",
       "      <td>tratamiento2</td>\n",
       "      <td>0</td>\n",
       "      <td>55</td>\n",
       "      <td>88</td>\n",
       "      <td>134</td>\n",
       "      <td>237</td>\n",
       "      <td>375</td>\n",
       "      <td>503</td>\n",
       "      <td>658</td>\n",
       "      <td>0.91</td>\n",
       "      <td>1.32</td>\n",
       "      <td>0.76</td>\n",
       "      <td>0.55</td>\n",
       "    </tr>\n",
       "    <tr>\n",
       "      <th>7</th>\n",
       "      <td>tratamiento2</td>\n",
       "      <td>0</td>\n",
       "      <td>51</td>\n",
       "      <td>88</td>\n",
       "      <td>139</td>\n",
       "      <td>191</td>\n",
       "      <td>375</td>\n",
       "      <td>515</td>\n",
       "      <td>651</td>\n",
       "      <td>0.91</td>\n",
       "      <td>1.31</td>\n",
       "      <td>0.76</td>\n",
       "      <td>0.57</td>\n",
       "    </tr>\n",
       "    <tr>\n",
       "      <th>8</th>\n",
       "      <td>tratamiento2</td>\n",
       "      <td>0</td>\n",
       "      <td>46</td>\n",
       "      <td>98</td>\n",
       "      <td>138</td>\n",
       "      <td>174</td>\n",
       "      <td>408</td>\n",
       "      <td>495</td>\n",
       "      <td>606</td>\n",
       "      <td>0.90</td>\n",
       "      <td>1.30</td>\n",
       "      <td>0.77</td>\n",
       "      <td>0.79</td>\n",
       "    </tr>\n",
       "    <tr>\n",
       "      <th>9</th>\n",
       "      <td>tratamiento3</td>\n",
       "      <td>0</td>\n",
       "      <td>50</td>\n",
       "      <td>43</td>\n",
       "      <td>65</td>\n",
       "      <td>143</td>\n",
       "      <td>313</td>\n",
       "      <td>438</td>\n",
       "      <td>820</td>\n",
       "      <td>0.95</td>\n",
       "      <td>1.37</td>\n",
       "      <td>0.73</td>\n",
       "      <td>0.74</td>\n",
       "    </tr>\n",
       "    <tr>\n",
       "      <th>10</th>\n",
       "      <td>tratamiento3</td>\n",
       "      <td>0</td>\n",
       "      <td>37</td>\n",
       "      <td>70</td>\n",
       "      <td>79</td>\n",
       "      <td>128</td>\n",
       "      <td>264</td>\n",
       "      <td>439</td>\n",
       "      <td>862</td>\n",
       "      <td>0.95</td>\n",
       "      <td>1.38</td>\n",
       "      <td>0.73</td>\n",
       "      <td>0.82</td>\n",
       "    </tr>\n",
       "    <tr>\n",
       "      <th>11</th>\n",
       "      <td>tratamiento3</td>\n",
       "      <td>0</td>\n",
       "      <td>26</td>\n",
       "      <td>69</td>\n",
       "      <td>82</td>\n",
       "      <td>103</td>\n",
       "      <td>249</td>\n",
       "      <td>404</td>\n",
       "      <td>819</td>\n",
       "      <td>0.95</td>\n",
       "      <td>1.37</td>\n",
       "      <td>0.73</td>\n",
       "      <td>0.68</td>\n",
       "    </tr>\n",
       "    <tr>\n",
       "      <th>12</th>\n",
       "      <td>tratamiento4</td>\n",
       "      <td>0</td>\n",
       "      <td>80</td>\n",
       "      <td>49</td>\n",
       "      <td>54</td>\n",
       "      <td>59</td>\n",
       "      <td>146</td>\n",
       "      <td>163</td>\n",
       "      <td>304</td>\n",
       "      <td>0.78</td>\n",
       "      <td>1.13</td>\n",
       "      <td>0.89</td>\n",
       "      <td>0.12</td>\n",
       "    </tr>\n",
       "    <tr>\n",
       "      <th>13</th>\n",
       "      <td>tratamiento4</td>\n",
       "      <td>0</td>\n",
       "      <td>46</td>\n",
       "      <td>58</td>\n",
       "      <td>60</td>\n",
       "      <td>66</td>\n",
       "      <td>97</td>\n",
       "      <td>115</td>\n",
       "      <td>219</td>\n",
       "      <td>0.72</td>\n",
       "      <td>1.04</td>\n",
       "      <td>0.96</td>\n",
       "      <td>0.18</td>\n",
       "    </tr>\n",
       "    <tr>\n",
       "      <th>14</th>\n",
       "      <td>tratamiento4</td>\n",
       "      <td>0</td>\n",
       "      <td>32</td>\n",
       "      <td>40</td>\n",
       "      <td>49</td>\n",
       "      <td>72</td>\n",
       "      <td>85</td>\n",
       "      <td>122</td>\n",
       "      <td>209</td>\n",
       "      <td>0.71</td>\n",
       "      <td>1.02</td>\n",
       "      <td>0.98</td>\n",
       "      <td>0.20</td>\n",
       "    </tr>\n",
       "  </tbody>\n",
       "</table>\n",
       "</div>"
      ],
      "text/plain": [
       "           Grupo  AES  dia1  dia2  dia3  dia4  dia5  dia6  dia7     u  \\\n",
       "0        control    0    60    86   149   204   555   863  1100  0.99   \n",
       "1        control    0    59   103   124   351   583   859  1819  1.07   \n",
       "2        control    0    48    75   155   473   639  1176  1625  1.05   \n",
       "3   tratamiento1    0    80   106   151   489   445   604   692  0.92   \n",
       "4   tratamiento1    0    76    71   190   404   457   600   622  0.90   \n",
       "5   tratamiento1    0    55    85   185   416   473   495   573  0.89   \n",
       "6   tratamiento2    0    55    88   134   237   375   503   658  0.91   \n",
       "7   tratamiento2    0    51    88   139   191   375   515   651  0.91   \n",
       "8   tratamiento2    0    46    98   138   174   408   495   606  0.90   \n",
       "9   tratamiento3    0    50    43    65   143   313   438   820  0.95   \n",
       "10  tratamiento3    0    37    70    79   128   264   439   862  0.95   \n",
       "11  tratamiento3    0    26    69    82   103   249   404   819  0.95   \n",
       "12  tratamiento4    0    80    49    54    59   146   163   304  0.78   \n",
       "13  tratamiento4    0    46    58    60    66    97   115   219  0.72   \n",
       "14  tratamiento4    0    32    40    49    72    85   122   209  0.71   \n",
       "\n",
       "    div/day    dt  biomass  \n",
       "0      1.43  0.70     1.66  \n",
       "1      1.54  0.65     1.84  \n",
       "2      1.52  0.66     1.56  \n",
       "3      1.33  0.75     0.47  \n",
       "4      1.30  0.77     0.49  \n",
       "5      1.28  0.78     0.53  \n",
       "6      1.32  0.76     0.55  \n",
       "7      1.31  0.76     0.57  \n",
       "8      1.30  0.77     0.79  \n",
       "9      1.37  0.73     0.74  \n",
       "10     1.38  0.73     0.82  \n",
       "11     1.37  0.73     0.68  \n",
       "12     1.13  0.89     0.12  \n",
       "13     1.04  0.96     0.18  \n",
       "14     1.02  0.98     0.20  "
      ]
     },
     "execution_count": 2,
     "metadata": {},
     "output_type": "execute_result"
    }
   ],
   "source": [
    "df = pd.read_csv(\"data_all.csv\")\n",
    "df"
   ]
  },
  {
   "cell_type": "code",
   "execution_count": 3,
   "metadata": {},
   "outputs": [
    {
     "data": {
      "text/plain": [
       "(15, 13)"
      ]
     },
     "execution_count": 3,
     "metadata": {},
     "output_type": "execute_result"
    }
   ],
   "source": [
    "df.shape"
   ]
  },
  {
   "cell_type": "code",
   "execution_count": 4,
   "metadata": {},
   "outputs": [],
   "source": [
    "Tc = df.u[df.Grupo == 'control']\n",
    "T1 = df.u[df.Grupo == 'tratamiento1']\n",
    "T2 = df.u[df.Grupo == 'tratamiento2']\n",
    "T3 = df.u[df.Grupo == 'tratamiento3']\n",
    "T4 = df.u[df.Grupo == 'tratamiento4']"
   ]
  },
  {
   "cell_type": "code",
   "execution_count": 5,
   "metadata": {},
   "outputs": [],
   "source": [
    "from scipy import stats"
   ]
  },
  {
   "cell_type": "code",
   "execution_count": 6,
   "metadata": {},
   "outputs": [
    {
     "data": {
      "text/plain": [
       "F_onewayResult(statistic=52.08737864077677, pvalue=1.1627614460769237e-06)"
      ]
     },
     "execution_count": 6,
     "metadata": {},
     "output_type": "execute_result"
    }
   ],
   "source": [
    "anova =stats.f_oneway(Tc, T1, T2, T3, T4)\n",
    "anova \n",
    "#si el valor de p es menor del 5% (p<0.05) existe diferencia significativa"
   ]
  },
  {
   "cell_type": "code",
   "execution_count": 7,
   "metadata": {},
   "outputs": [
    {
     "name": "stdout",
     "output_type": "stream",
     "text": [
      "      Multiple Comparison of Means - Tukey HSD, FWER=0.05       \n",
      "================================================================\n",
      "   group1       group2    meandiff p-adj   lower   upper  reject\n",
      "----------------------------------------------------------------\n",
      "     control tratamiento1  -0.1333  0.001 -0.2038 -0.0629   True\n",
      "     control tratamiento2    -0.13  0.001 -0.2004 -0.0596   True\n",
      "     control tratamiento3  -0.0867 0.0155 -0.1571 -0.0162   True\n",
      "     control tratamiento4     -0.3  0.001 -0.3704 -0.2296   True\n",
      "tratamiento1 tratamiento2   0.0033    0.9 -0.0671  0.0738  False\n",
      "tratamiento1 tratamiento3   0.0467 0.2612 -0.0238  0.1171  False\n",
      "tratamiento1 tratamiento4  -0.1667  0.001 -0.2371 -0.0962   True\n",
      "tratamiento2 tratamiento3   0.0433 0.3211 -0.0271  0.1138  False\n",
      "tratamiento2 tratamiento4    -0.17  0.001 -0.2404 -0.0996   True\n",
      "tratamiento3 tratamiento4  -0.2133  0.001 -0.2838 -0.1429   True\n",
      "----------------------------------------------------------------\n"
     ]
    }
   ],
   "source": [
    "from statsmodels.stats.multicomp import pairwise_tukeyhsd\n",
    "\n",
    "print (pairwise_tukeyhsd(df['u'], df['Grupo'], alpha=0.05))\n",
    "#cuando es < 0.05 no hay diferenciae stadistica"
   ]
  },
  {
   "cell_type": "code",
   "execution_count": 8,
   "metadata": {},
   "outputs": [
    {
     "data": {
      "image/png": "[encoded data removed]",
      "text/plain": [
       "<Figure size 842.4x595.44 with 1 Axes>"
      ]
     },
     "metadata": {},
     "output_type": "display_data"
    }
   ],
   "source": [
    "import matplotlib.pyplot as plt\n",
    "import seaborn as sns\n",
    "sns.set(rc={'figure.figsize':(11.7,8.27)})\n",
    "ax = sns.boxplot(x='Grupo', y='u', data=df, color='#99c2a2')\n",
    "ax = sns.swarmplot(x=\"Grupo\", y=\"u\", data=df, color='#7d0013')\n",
    "plt.show()"
   ]
  },
  {
   "cell_type": "code",
   "execution_count": 9,
   "metadata": {},
   "outputs": [
    {
     "name": "stdout",
     "output_type": "stream",
     "text": [
      "      Multiple Comparison of Means - Tukey HSD, FWER=0.05       \n",
      "================================================================\n",
      "   group1       group2    meandiff p-adj   lower   upper  reject\n",
      "----------------------------------------------------------------\n",
      "     control tratamiento1  -0.1933  0.001 -0.2983 -0.0883   True\n",
      "     control tratamiento2  -0.1867 0.0012 -0.2917 -0.0817   True\n",
      "     control tratamiento3  -0.1233 0.0205 -0.2283 -0.0183   True\n",
      "     control tratamiento4  -0.4333  0.001 -0.5383 -0.3283   True\n",
      "tratamiento1 tratamiento2   0.0067    0.9 -0.0983  0.1117  False\n",
      "tratamiento1 tratamiento3     0.07 0.2566  -0.035   0.175  False\n",
      "tratamiento1 tratamiento4    -0.24  0.001  -0.345  -0.135   True\n",
      "tratamiento2 tratamiento3   0.0633 0.3382 -0.0417  0.1683  False\n",
      "tratamiento2 tratamiento4  -0.2467  0.001 -0.3517 -0.1417   True\n",
      "tratamiento3 tratamiento4    -0.31  0.001  -0.415  -0.205   True\n",
      "----------------------------------------------------------------\n"
     ]
    }
   ],
   "source": [
    "from statsmodels.stats.multicomp import pairwise_tukeyhsd\n",
    "\n",
    "print (pairwise_tukeyhsd(df['div/day'], df['Grupo'], alpha=0.05))\n",
    "#cuando es < 0.05 no hay diferenciae stadistica"
   ]
  },
  {
   "cell_type": "code",
   "execution_count": 10,
   "metadata": {},
   "outputs": [
    {
     "data": {
      "image/png": "[encoded data removed]",
      "text/plain": [
       "<Figure size 842.4x595.44 with 1 Axes>"
      ]
     },
     "metadata": {},
     "output_type": "display_data"
    }
   ],
   "source": [
    "import matplotlib.pyplot as plt\n",
    "import seaborn as sns\n",
    "sns.set(rc={'figure.figsize':(11.7,8.27)})\n",
    "ax = sns.boxplot(x='Grupo', y='div/day', data=df, color='#99c2a2')\n",
    "ax = sns.swarmplot(x=\"Grupo\", y=\"div/day\", data=df, color='#7d0013')\n",
    "plt.show()"
   ]
  },
  {
   "cell_type": "code",
   "execution_count": 12,
   "metadata": {},
   "outputs": [
    {
     "name": "stdout",
     "output_type": "stream",
     "text": [
      "      Multiple Comparison of Means - Tukey HSD, FWER=0.05      \n",
      "===============================================================\n",
      "   group1       group2    meandiff p-adj   lower  upper  reject\n",
      "---------------------------------------------------------------\n",
      "     control tratamiento1   0.0967  0.006  0.0287 0.1647   True\n",
      "     control tratamiento2   0.0933 0.0077  0.0253 0.1613   True\n",
      "     control tratamiento3     0.06 0.0908  -0.008  0.128  False\n",
      "     control tratamiento4   0.2733  0.001  0.2053 0.3413   True\n",
      "tratamiento1 tratamiento2  -0.0033    0.9 -0.0713 0.0647  False\n",
      "tratamiento1 tratamiento3  -0.0367 0.4379 -0.1047 0.0313  False\n",
      "tratamiento1 tratamiento4   0.1767  0.001  0.1087 0.2447   True\n",
      "tratamiento2 tratamiento3  -0.0333   0.52 -0.1013 0.0347  False\n",
      "tratamiento2 tratamiento4     0.18  0.001   0.112  0.248   True\n",
      "tratamiento3 tratamiento4   0.2133  0.001  0.1453 0.2813   True\n",
      "---------------------------------------------------------------\n"
     ]
    }
   ],
   "source": [
    "from statsmodels.stats.multicomp import pairwise_tukeyhsd\n",
    "\n",
    "print (pairwise_tukeyhsd(df['dt'], df['Grupo'], alpha=0.05))\n",
    "#cuando es < 0.05 no hay diferenciae stadistica"
   ]
  },
  {
   "cell_type": "code",
   "execution_count": 11,
   "metadata": {},
   "outputs": [
    {
     "data": {
      "image/png": "[encoded data removed]",
      "text/plain": [
       "<Figure size 842.4x595.44 with 1 Axes>"
      ]
     },
     "metadata": {},
     "output_type": "display_data"
    }
   ],
   "source": [
    "import matplotlib.pyplot as plt\n",
    "import seaborn as sns\n",
    "sns.set(rc={'figure.figsize':(11.7,8.27)})\n",
    "ax = sns.boxplot(x='Grupo', y='dt', data=df, color='#99c2a2')\n",
    "ax = sns.swarmplot(x=\"Grupo\", y=\"dt\", data=df, color='#7d0013')\n",
    "plt.show()"
   ]
  },
  {
   "cell_type": "code",
   "execution_count": 15,
   "metadata": {},
   "outputs": [
    {
     "name": "stdout",
     "output_type": "stream",
     "text": [
      "      Multiple Comparison of Means - Tukey HSD, FWER=0.05       \n",
      "================================================================\n",
      "   group1       group2    meandiff p-adj   lower   upper  reject\n",
      "----------------------------------------------------------------\n",
      "     control tratamiento1    -1.19  0.001 -1.4463 -0.9337   True\n",
      "     control tratamiento2    -1.05  0.001 -1.3063 -0.7937   True\n",
      "     control tratamiento3    -0.94  0.001 -1.1963 -0.6837   True\n",
      "     control tratamiento4    -1.52  0.001 -1.7763 -1.2637   True\n",
      "tratamiento1 tratamiento2     0.14 0.4264 -0.1163  0.3963  False\n",
      "tratamiento1 tratamiento3     0.25 0.0567 -0.0063  0.5063  False\n",
      "tratamiento1 tratamiento4    -0.33 0.0116 -0.5863 -0.0737   True\n",
      "tratamiento2 tratamiento3     0.11 0.6233 -0.1463  0.3663  False\n",
      "tratamiento2 tratamiento4    -0.47  0.001 -0.7263 -0.2137   True\n",
      "tratamiento3 tratamiento4    -0.58  0.001 -0.8363 -0.3237   True\n",
      "----------------------------------------------------------------\n"
     ]
    }
   ],
   "source": [
    "from statsmodels.stats.multicomp import pairwise_tukeyhsd\n",
    "\n",
    "print (pairwise_tukeyhsd(df['biomass'], df['Grupo'], alpha=0.05))\n",
    "#cuando es < 0.05 no hay diferenciae stadistica"
   ]
  },
  {
   "cell_type": "code",
   "execution_count": 14,
   "metadata": {},
   "outputs": [
    {
     "data": {
      "image/png": "[encoded data removed]",
      "text/plain": [
       "<Figure size 842.4x595.44 with 1 Axes>"
      ]
     },
     "metadata": {},
     "output_type": "display_data"
    }
   ],
   "source": [
    "import matplotlib.pyplot as plt\n",
    "import seaborn as sns\n",
    "sns.set(rc={'figure.figsize':(11.7,8.27)})\n",
    "ax = sns.boxplot(x='Grupo', y='biomass', data=df, color='#99c2a2')\n",
    "ax = sns.swarmplot(x=\"Grupo\", y=\"biomass\", data=df, color='#7d0013')\n",
    "plt.show()"
   ]
  }
 ],
 "metadata": {
  "kernelspec": {
   "display_name": "Python (py35)",
   "language": "python",
   "name": "py35"
  },
  "language_info": {
   "codemirror_mode": {
    "name": "ipython",
    "version": 3
   },
   "file_extension": ".py",
   "mimetype": "text/x-python",
   "name": "python",
   "nbconvert_exporter": "python",
   "pygments_lexer": "ipython3",
   "version": "3.8.12"
  }
 },
 "nbformat": 4,
 "nbformat_minor": 4
}
